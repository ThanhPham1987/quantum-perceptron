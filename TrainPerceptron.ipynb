{
 "cells": [
  {
   "cell_type": "code",
   "execution_count": 1,
   "id": "9f3fb515-747d-4e93-bf07-de5553a6e958",
   "metadata": {
    "tags": []
   },
   "outputs": [],
   "source": [
    "import numpy as np\n",
    "from quantum_perceptron.utils import plot_img_from_data, get_vector_from_int, get_int_from_vector\n",
    "from quantum_perceptron.train import generate_dataset, PerceptronTrainer\n",
    "from quantum_perceptron import Perceptron"
   ]
  },
  {
   "cell_type": "markdown",
   "id": "681740ed-ea82-428e-a5c8-9d44cfe92b2e",
   "metadata": {},
   "source": [
    "# Generate Dataset\n",
    "\n",
    "Generate dataset to train 4 qubit perceptron."
   ]
  },
  {
   "cell_type": "code",
   "execution_count": 2,
   "id": "eba68da3-013e-4501-bdaa-67c82cef393d",
   "metadata": {
    "tags": []
   },
   "outputs": [
    {
     "data": {
      "image/png": "[encoded data removed]",
      "text/plain": [
       "<Figure size 640x480 with 1 Axes>"
      ]
     },
     "metadata": {},
     "output_type": "display_data"
    }
   ],
   "source": [
    "fixed_weight = 626\n",
    "num_qubits = 4\n",
    "plot_img_from_data(fixed_weight, num_qubits)"
   ]
  },
  {
   "cell_type": "code",
   "execution_count": 3,
   "id": "18e6cc2b-51be-4d83-8e3a-4bbd4078bcf7",
   "metadata": {
    "tags": []
   },
   "outputs": [
    {
     "name": "stderr",
     "output_type": "stream",
     "text": [
      "100%|█████████████████████████████████████████████████████████████████████████████████████████████████████████████████| 65536/65536 [19:38<00:00, 55.59it/s]"
     ]
    },
    {
     "name": "stdout",
     "output_type": "stream",
     "text": [
      "Number of positive samples: 274\n",
      "Number of negative samples: 65262\n",
      "Saved data to ./data/sample_space_qubits_4_fweight_626.txt\n",
      "Saved training data to ./data/train_space_qubits_4_fweight_626.txt\n"
     ]
    },
    {
     "name": "stderr",
     "output_type": "stream",
     "text": [
      "\n"
     ]
    }
   ],
   "source": [
    "generate_dataset(num_qubits=num_qubits, fixed_weight=fixed_weight)"
   ]
  },
  {
   "cell_type": "markdown",
   "id": "ecd46307-eb53-46b4-809a-4493b1661d62",
   "metadata": {},
   "source": [
    "# Perceptron Training\n",
    "\n",
    "Train generated dataset with 4 qubit perceptron. We will initialize random weight and will train perceptron so that it gradually updates the weight to the `fixed_weight` with which the dataset is generated."
   ]
  },
  {
   "cell_type": "code",
   "execution_count": 4,
   "id": "b6081742-8913-4d46-a6bc-d62bc2eb715b",
   "metadata": {
    "tags": []
   },
   "outputs": [
    {
     "name": "stderr",
     "output_type": "stream",
     "text": [
      "\u001b[34m\u001b[1mwandb\u001b[0m: Currently logged in as: \u001b[33mashutosh1919\u001b[0m. Use \u001b[1m`wandb login --relogin`\u001b[0m to force relogin\n"
     ]
    },
    {
     "data": {
      "text/html": [
       "Tracking run with wandb version 0.14.2"
      ],
      "text/plain": [
       "<IPython.core.display.HTML object>"
      ]
     },
     "metadata": {},
     "output_type": "display_data"
    },
    {
     "data": {
      "text/html": [
       "Run data is saved locally in <code>/Users/ashutosh1919/Documents/IUB/QuantumProgramming/quantum-perceptron/wandb/run-20230415_181130-p665sffu</code>"
      ],
      "text/plain": [
       "<IPython.core.display.HTML object>"
      ]
     },
     "metadata": {},
     "output_type": "display_data"
    },
    {
     "data": {
      "text/html": [
       "Syncing run <strong><a href='https://wandb.ai/ashutosh1919/quantum-perceptron/runs/p665sffu' target=\"_blank\">vivid-lake-5</a></strong> to <a href='https://wandb.ai/ashutosh1919/quantum-perceptron' target=\"_blank\">Weights & Biases</a> (<a href='https://wandb.me/run' target=\"_blank\">docs</a>)<br/>"
      ],
      "text/plain": [
       "<IPython.core.display.HTML object>"
      ]
     },
     "metadata": {},
     "output_type": "display_data"
    },
    {
     "data": {
      "text/html": [
       " View project at <a href='https://wandb.ai/ashutosh1919/quantum-perceptron' target=\"_blank\">https://wandb.ai/ashutosh1919/quantum-perceptron</a>"
      ],
      "text/plain": [
       "<IPython.core.display.HTML object>"
      ]
     },
     "metadata": {},
     "output_type": "display_data"
    },
    {
     "data": {
      "text/html": [
       " View run at <a href='https://wandb.ai/ashutosh1919/quantum-perceptron/runs/p665sffu' target=\"_blank\">https://wandb.ai/ashutosh1919/quantum-perceptron/runs/p665sffu</a>"
      ],
      "text/plain": [
       "<IPython.core.display.HTML object>"
      ]
     },
     "metadata": {},
     "output_type": "display_data"
    }
   ],
   "source": [
    "trainer = PerceptronTrainer(\n",
    "    num_qubits=num_qubits,\n",
    "    fixed_weight=fixed_weight,\n",
    "    dataset_path=\"./data/train_space_qubits_4_fweight_626.txt\"\n",
    ")"
   ]
  },
  {
   "cell_type": "code",
   "execution_count": 5,
   "id": "c07e3adf-43e8-4f70-9f53-4b7367d7df8f",
   "metadata": {
    "tags": []
   },
   "outputs": [
    {
     "name": "stdout",
     "output_type": "stream",
     "text": [
      "Randomly initialized weight before training:\n"
     ]
    },
    {
     "data": {
      "image/png": "[encoded data removed]",
      "text/plain": [
       "<Figure size 640x480 with 1 Axes>"
      ]
     },
     "metadata": {},
     "output_type": "display_data"
    }
   ],
   "source": [
    "print(\"Randomly initialized weight before training:\")\n",
    "plot_img_from_data(trainer.weight_variable, num_qubits)"
   ]
  },
  {
   "cell_type": "code",
   "execution_count": 6,
   "id": "92be5fcf-e82a-45a6-8e26-3b5bb89101c7",
   "metadata": {
    "tags": []
   },
   "outputs": [
    {
     "name": "stderr",
     "output_type": "stream",
     "text": [
      "100%|███████████████████████████████████████████████████████████████████████████████████████████████████████████████████| 3050/3050 [01:56<00:00, 26.25it/s]\n",
      "100%|███████████████████████████████████████████████████████████████████████████████████████████████████████████████████| 3050/3050 [01:57<00:00, 26.03it/s]\n",
      "100%|███████████████████████████████████████████████████████████████████████████████████████████████████████████████████| 3050/3050 [01:55<00:00, 26.41it/s]\n",
      "100%|███████████████████████████████████████████████████████████████████████████████████████████████████████████████████| 3050/3050 [01:52<00:00, 27.15it/s]\n",
      "100%|███████████████████████████████████████████████████████████████████████████████████████████████████████████████████| 3050/3050 [01:49<00:00, 27.81it/s]\n",
      "100%|███████████████████████████████████████████████████████████████████████████████████████████████████████████████████| 3050/3050 [01:56<00:00, 26.14it/s]\n",
      "100%|███████████████████████████████████████████████████████████████████████████████████████████████████████████████████| 3050/3050 [01:58<00:00, 25.78it/s]\n",
      "100%|███████████████████████████████████████████████████████████████████████████████████████████████████████████████████| 3050/3050 [01:48<00:00, 27.99it/s]\n",
      "100%|███████████████████████████████████████████████████████████████████████████████████████████████████████████████████| 3050/3050 [01:54<00:00, 26.72it/s]\n",
      " 32%|████████████████████████████████████▋                                                                               | 963/3050 [00:35<01:17, 26.77it/s]"
     ]
    },
    {
     "name": "stdout",
     "output_type": "stream",
     "text": [
      "Training converged at step: 28414\n"
     ]
    },
    {
     "name": "stderr",
     "output_type": "stream",
     "text": [
      "\n"
     ]
    }
   ],
   "source": [
    "trainer.train(num_epochs=10)"
   ]
  },
  {
   "cell_type": "code",
   "execution_count": 7,
   "id": "84c72b42-e18c-456f-b5a4-f41b577cb50b",
   "metadata": {
    "tags": []
   },
   "outputs": [
    {
     "name": "stdout",
     "output_type": "stream",
     "text": [
      "Final weight after training:\n"
     ]
    },
    {
     "data": {
      "image/png": "[encoded data removed]",
      "text/plain": [
       "<Figure size 640x480 with 1 Axes>"
      ]
     },
     "metadata": {},
     "output_type": "display_data"
    }
   ],
   "source": [
    "print(\"Final weight after training:\")\n",
    "plot_img_from_data(trainer.weight_variable, num_qubits)"
   ]
  },
  {
   "cell_type": "code",
   "execution_count": 11,
   "id": "fbecdf4f-68c8-4d4d-9a6f-9ef66bd182f0",
   "metadata": {
    "tags": []
   },
   "outputs": [
    {
     "data": {
      "text/plain": [
       "Text(0, 0.5, 'Fidelity Similarity with Actual Weight')"
      ]
     },
     "execution_count": 11,
     "metadata": {},
     "output_type": "execute_result"
    },
    {
     "data": {
      "image/png": "[encoded data removed]",
      "text/plain": [
       "<Figure size 640x480 with 1 Axes>"
      ]
     },
     "metadata": {},
     "output_type": "display_data"
    }
   ],
   "source": [
    "import matplotlib.pyplot as plt\n",
    "\n",
    "plt.plot(list(range(trainer.num_steps)), sorted(trainer.accumulate_loss))\n",
    "plt.xlabel(\"Number of Steps\")\n",
    "plt.ylabel(\"Fidelity Similarity with Actual Weight\")"
   ]
  }
 ],
 "metadata": {
  "kernelspec": {
   "display_name": "quantum",
   "language": "python",
   "name": "quantum"
  },
  "language_info": {
   "codemirror_mode": {
    "name": "ipython",
    "version": 3
   },
   "file_extension": ".py",
   "mimetype": "text/x-python",
   "name": "python",
   "nbconvert_exporter": "python",
   "pygments_lexer": "ipython3",
   "version": "3.8.16"
  }
 },
 "nbformat": 4,
 "nbformat_minor": 5
}
